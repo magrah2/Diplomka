{
 "cells": [
  {
   "cell_type": "code",
   "execution_count": null,
   "metadata": {},
   "outputs": [],
   "source": [
    "using DifferentialEquations\n",
    "using Plots\n",
    "using Makie\n",
    "using Dierckx\n",
    "using AbstractFFTs\n",
    "using FFTW\n",
    "gr(fmt = :png)"
   ]
  },
  {
   "cell_type": "code",
   "execution_count": null,
   "metadata": {
    "scrolled": false
   },
   "outputs": [],
   "source": [
    "N = 2000\n",
    "s = 0.0:2*pi/N:2*pi\n",
    "W = 10\n",
    "A = 0.05\n",
    "x = cos.(s) .* (1 .+ A*sin.(W*s))\n",
    "y = sin.(s) .* (1 .+ A*sin.(W*s))\n",
    "\n",
    "\n",
    "\n",
    "#x = cos.(s)\n",
    "#y = sin.(s)\n",
    "\n",
    "fft_x = AbstractFFTs.fft(x)\n",
    "fft_y = AbstractFFTs.fft(y);\n",
    "\n",
    "Plots.plot(x,y)"
   ]
  },
  {
   "cell_type": "code",
   "execution_count": null,
   "metadata": {},
   "outputs": [],
   "source": [
    "function diff_eq1(du, u, p, t) #flat spacetime\n",
    "    a = p[1]\n",
    "    w = p[2]\n",
    "    t0 = p[3]\n",
    "    s = p[4]\n",
    "    n = p[5]\n",
    "    du[1] = -n^2*u[2]\n",
    "    du[2] = u[1]\n",
    "end\n",
    "\n",
    "function diff_eq2(du, u, p, t)  #grav wave\n",
    "    a = p[1]\n",
    "    w = p[2]\n",
    "    t0 = p[3]\n",
    "    s = p[4]\n",
    "    n = p[5]\n",
    "    du[1] = -n^2*u[2] + a*cos(w*t)*u[2]*exp(-(t-t0)^2/(2*s^2))\n",
    "    du[2] = u[1]\n",
    "end"
   ]
  },
  {
   "cell_type": "code",
   "execution_count": null,
   "metadata": {
    "scrolled": true
   },
   "outputs": [],
   "source": [
    "res = Array{Any, 1}(undef, 0)\n",
    "u0 = [0.0;1.0]\n",
    "tspan = (0.0,5.0)\n",
    "\n",
    "N = 1000\n",
    "time = tspan[1]:tspan[2]/N:tspan[2]\n",
    "\n",
    "#flat spacetime\n",
    "for n = 0:div(size(fft_x,1),2)\n",
    "\n",
    "    px = [2.0, 1.7, 2*pi*0.4, tspan[2]/2, n]\n",
    "    py = [-2.0, 1.7, 2*pi*0.4, tspan[2]/2, n]\n",
    "\n",
    "    probx = ODEProblem(diff_eq1,u0,tspan,px)\n",
    "    solx = solve(probx)\n",
    "    \n",
    "    solx_arr = [solx[2, i] for i = 1:size(solx,2)]\n",
    "    solx_t = [solx.t[i] for i = 1:size(solx,2)]\n",
    "    splx = Spline1D(solx_t, solx_arr)\n",
    "\n",
    "    proby = ODEProblem(diff_eq1,u0,tspan,py)\n",
    "    soly = solve(proby)\n",
    "    \n",
    "    soly_arr = [soly[2, i] for i = 1:size(soly,2)]\n",
    "    soly_t = [soly.t[i] for i = 1:size(soly,2)]\n",
    "    sply = Spline1D(soly_t, soly_arr)\n",
    "    \n",
    "    push!(res, (splx, sply))\n",
    "    \n",
    "end\n",
    "\n",
    "ax1 = [x[1]*res[2][1](t) for t in time]\n",
    "\n",
    "fx1 = [real.(ifft([[fft_x[n] * res[n][1](t) for n = 1:div(size(fft_x,1),2)+1];[fft_x[n+div(size(fft_x,1),2)] * res[div(size(fft_x,1),2)+3-n][1](t) for n = 2:div(size(fft_x,1),2)+1]])) for t in time]\n",
    "fy1 = [real.(ifft([[fft_y[n] * res[n][1](t) for n = 1:div(size(fft_y,1),2)+1];[fft_y[n+div(size(fft_y,1),2)] * res[div(size(fft_y,1),2)+3-n][1](t) for n = 2:div(size(fft_y,1),2)+1]])) for t in time]\n",
    "\n",
    "\n",
    "#grav wave\n",
    "res = Array{Any, 1}(undef, 0)\n",
    "\n",
    "for n = 0:div(size(fft_x,1),2)\n",
    "\n",
    "    px = [0.5, pi/2, tspan[2]/5, tspan[2]/8, n]\n",
    "    py = [-0.5, pi/2, tspan[2]/5, tspan[2]/8, n]\n",
    "\n",
    "    probx = ODEProblem(diff_eq2,u0,tspan,px)\n",
    "    solx = solve(probx)\n",
    "    \n",
    "    solx_arr = [solx[2, i] for i = 1:size(solx,2)]\n",
    "    solx_t = [solx.t[i] for i = 1:size(solx,2)]\n",
    "    splx = Spline1D(solx_t, solx_arr)\n",
    "\n",
    "    proby = ODEProblem(diff_eq2,u0,tspan,py)\n",
    "    soly = solve(proby)\n",
    "    \n",
    "    soly_arr = [soly[2, i] for i = 1:size(soly,2)]\n",
    "    soly_t = [soly.t[i] for i = 1:size(soly,2)]\n",
    "    sply = Spline1D(soly_t, soly_arr)\n",
    "    \n",
    "    push!(res, (splx, sply))\n",
    "    \n",
    "end\n",
    "\n",
    "ax2 = [x[1]*res[2][1](t) for t in time]\n",
    "\n",
    "fx2 = [real.(ifft([[fft_x[n] * res[n][1](t) for n = 1:div(size(fft_x,1),2)+1];[fft_x[n+div(size(fft_x,1),2)] * res[div(size(fft_x,1),2)+3-n][1](t) for n = 2:div(size(fft_x,1),2)+1]])) for t in time]\n",
    "fy2 = [real.(ifft([[fft_y[n] * res[n][1](t) for n = 1:div(size(fft_y,1),2)+1];[fft_y[n+div(size(fft_y,1),2)] * res[div(size(fft_y,1),2)+3-n][1](t) for n = 2:div(size(fft_y,1),2)+1]])) for t in time];"
   ]
  },
  {
   "cell_type": "code",
   "execution_count": null,
   "metadata": {},
   "outputs": [],
   "source": [
    "Plots.plot(time, ax1)\n",
    "Plots.plot!(time, [fx1[i][1] for i = 1:length(fx1)])"
   ]
  },
  {
   "cell_type": "code",
   "execution_count": null,
   "metadata": {},
   "outputs": [],
   "source": [
    "Plots.plot(time, ax2)\n",
    "Plots.plot!(time, [fx2[i][1] for i = 1:length(fx2)])"
   ]
  },
  {
   "cell_type": "code",
   "execution_count": null,
   "metadata": {},
   "outputs": [],
   "source": []
  },
  {
   "cell_type": "code",
   "execution_count": null,
   "metadata": {},
   "outputs": [],
   "source": [
    "scene = Scene(resolution = (1000, 1000))\n",
    "\n",
    "time = Node(1)\n",
    "limits = FRect(-2.5, -2.5, 5, 5)\n",
    "p1 = lines!(scene, lift(t-> [(fx2[t][s], fy2[t][s]) for s = 1:size(fx2[t],1)], time), color = :blue, linewidth = 3, limits = limits)\n",
    "N = 1000\n",
    "record(scene, \"D:\\\\Documents\\\\Diplomka\\\\Animations\\\\string_grav_wave_n.gif\", 1:size(fx2,1)) do i\n",
    "    push!(time, i)\n",
    "    sleep(1/120)\n",
    "end"
   ]
  },
  {
   "cell_type": "code",
   "execution_count": null,
   "metadata": {},
   "outputs": [],
   "source": []
  },
  {
   "cell_type": "code",
   "execution_count": null,
   "metadata": {},
   "outputs": [],
   "source": []
  },
  {
   "cell_type": "code",
   "execution_count": null,
   "metadata": {},
   "outputs": [],
   "source": []
  }
 ],
 "metadata": {
  "kernelspec": {
   "display_name": "Julia 0.7.0",
   "language": "julia",
   "name": "julia-0.7"
  },
  "language_info": {
   "file_extension": ".jl",
   "mimetype": "application/julia",
   "name": "julia",
   "version": "0.7.0"
  }
 },
 "nbformat": 4,
 "nbformat_minor": 2
}
