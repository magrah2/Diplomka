{
 "cells": [
  {
   "cell_type": "code",
   "execution_count": 2,
   "metadata": {},
   "outputs": [],
   "source": [
    "using Makie"
   ]
  },
  {
   "cell_type": "code",
   "execution_count": null,
   "metadata": {},
   "outputs": [],
   "source": [
    "r0 = 1\n",
    "n = 0\n",
    "\n",
    "scene = Scene(resolution = (500, 500))\n",
    "\n",
    "f(t, s, r0, n) = (r0*cos(t/r0)*cos(n*s)*cos(s), r0*cos(t/r0)*cos(n*s)*sin(s))\n",
    "surf(t, s, t0, r0, n) = f(t-t0, s, r0, n)\n",
    "\n",
    "time = Node(0.0)\n",
    "p1 = lines!(scene, lift(t-> f.(t, range(0, stop = 2pi, length = 100), r0, n), time), linewidth = 3, color = :blue, limits = FRect(-1.2, -1.2, 2.4, 2.4))[end]\n",
    "N = 150\n",
    "record(scene, \"C:\\\\Users\\\\vliska\\\\Documents\\\\Projects\\\\interaction.mp4\", range(0, stop = 6, length = N)) do i\n",
    "    push!(time, i)\n",
    "end\n"
   ]
  },
  {
   "cell_type": "code",
   "execution_count": null,
   "metadata": {},
   "outputs": [],
   "source": []
  },
  {
   "cell_type": "code",
   "execution_count": null,
   "metadata": {},
   "outputs": [],
   "source": []
  },
  {
   "cell_type": "code",
   "execution_count": 4,
   "metadata": {},
   "outputs": [
    {
     "data": {
      "text/plain": [
       "\"D:\\\\Documents\\\\Diplomka\\\\string_surf0.mp4\""
      ]
     },
     "execution_count": 4,
     "metadata": {},
     "output_type": "execute_result"
    }
   ],
   "source": [
    "t00 = 0.0\n",
    "t_fin = 3*pi\n",
    "r0 = 1.0\n",
    "n = 0\n",
    "N = 100\n",
    "k = 0\n",
    "\n",
    "scene = Scene(resolution = (1000, 1000))\n",
    "\n",
    "f(t, s, r0, n) = (4*r0*cos(t/r0)*cos(n*s+k*pi/2)*cos(s), r0*cos(t/r0)*cos(n*s+k*pi/2)*sin(s))\n",
    "\n",
    "function surf_func(t0, t_fin, N, n, r0)\n",
    "    t_range = range(t0, stop = t_fin+t0, length = N)\n",
    "    s_range = range(0, stop = 2pi, length = N)\n",
    "    srf = [f(t, s, r0, n) for t in t_range, s in s_range]\n",
    "    x = [srf[i,j][1] for i = 1:N, j = 1:N]\n",
    "    y = [srf[i,j][2] for i = 1:N, j = 1:N]\n",
    "    z = [t-t_fin for t in t_range, s in s_range]\n",
    "    return x, y, z\n",
    "end\n",
    "\n",
    "x, y, z = surf_func(t00, t_fin, N, n, r0)\n",
    "\n",
    "surf = surface!(scene, z, x, y, colormap = :Blues)[end]\n",
    "str = lines!(scene, z[end,:], x[end,:], y[end,:], color = :red, linewidth = 2, limits = FRect3D(Vec3f0(-10, -1.1, -1.1), Vec3f0(20, 2.2, 2.2)))[end]\n",
    "update_cam!(scene, Vec3f0(4, 8, 8), Vec3f0(-3, 0, 0))\n",
    "\n",
    "record(scene, \"D:\\\\Documents\\\\Diplomka\\\\string_surf\"*\"$n\"*\".mp4\", range(t00, stop = t_fin, length = 300)) do i\n",
    "    x, y, z = surf_func(i, t_fin, N, n, r0)\n",
    "    surf[1] = z\n",
    "    surf[2] = x\n",
    "    surf[3] = y\n",
    "    str[1] = z[end,:]\n",
    "    str[2] = x[end,:]\n",
    "    str[3] = y[end,:]\n",
    "    update_cam!(scene, Vec3f0(4+i, 8, 8), Vec3f0(-3+i, 0, 0))\n",
    "end\n"
   ]
  },
  {
   "cell_type": "code",
   "execution_count": null,
   "metadata": {},
   "outputs": [],
   "source": []
  },
  {
   "cell_type": "code",
   "execution_count": null,
   "metadata": {},
   "outputs": [],
   "source": []
  }
 ],
 "metadata": {
  "kernelspec": {
   "display_name": "Julia 0.7.0",
   "language": "julia",
   "name": "julia-0.7"
  },
  "language_info": {
   "file_extension": ".jl",
   "mimetype": "application/julia",
   "name": "julia",
   "version": "0.7.0"
  }
 },
 "nbformat": 4,
 "nbformat_minor": 2
}
