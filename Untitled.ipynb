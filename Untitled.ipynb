{
 "cells": [
  {
   "cell_type": "code",
   "execution_count": 1,
   "metadata": {},
   "outputs": [],
   "source": [
    "using LsqFit"
   ]
  },
  {
   "cell_type": "code",
   "execution_count": null,
   "metadata": {},
   "outputs": [],
   "source": [
    "function lomena(x,p)\n",
    "    a = p[1]\n",
    "    b = p[2]\n",
    "    c = p[3]\n",
    "    e = p[4]\n",
    "    x1 = p[5]\n",
    "    x2 = p[6]\n",
    "    \n",
    "    if x <= x1\n",
    "        return a*x + b\n",
    "    elseif x1 < x < x2\n",
    "        return \n",
    "end\n",
    "    "
   ]
  }
 ],
 "metadata": {
  "kernelspec": {
   "display_name": "Julia 0.6.2",
   "language": "julia",
   "name": "julia-0.6"
  },
  "language_info": {
   "file_extension": ".jl",
   "mimetype": "application/julia",
   "name": "julia",
   "version": "0.6.2"
  }
 },
 "nbformat": 4,
 "nbformat_minor": 2
}
